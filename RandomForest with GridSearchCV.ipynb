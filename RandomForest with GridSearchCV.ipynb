{
 "cells": [
  {
   "cell_type": "code",
   "execution_count": 1,
   "id": "aacf50ef",
   "metadata": {},
   "outputs": [],
   "source": [
    "import pandas as pd"
   ]
  },
  {
   "cell_type": "code",
   "execution_count": 2,
   "id": "2fab74a4",
   "metadata": {},
   "outputs": [],
   "source": [
    "Data = pd.read_csv(r'C:\\Users\\Mazz Mirza\\Mazz\\Study\\Datasets\\diabetes.csv')"
   ]
  },
  {
   "cell_type": "code",
   "execution_count": 3,
   "id": "4684db5f",
   "metadata": {},
   "outputs": [],
   "source": [
    "y = pd.DataFrame(Data.loc[:,'Outcome'])\n",
    "X = pd.DataFrame(Data.iloc[:,:-1])"
   ]
  },
  {
   "cell_type": "code",
   "execution_count": 4,
   "id": "4a5d97d1",
   "metadata": {},
   "outputs": [],
   "source": [
    "from sklearn.model_selection import train_test_split"
   ]
  },
  {
   "cell_type": "code",
   "execution_count": 5,
   "id": "56530aee",
   "metadata": {},
   "outputs": [],
   "source": [
    "X_train, X_test, y_train, y_test = train_test_split(X,y, test_size= 0.20, random_state=123)"
   ]
  },
  {
   "cell_type": "code",
   "execution_count": 6,
   "id": "442eca06",
   "metadata": {},
   "outputs": [
    {
     "name": "stdout",
     "output_type": "stream",
     "text": [
      "(614, 8)\n",
      "(614, 1)\n",
      "(154, 8)\n",
      "(154, 1)\n"
     ]
    }
   ],
   "source": [
    "print(X_train.shape)\n",
    "print(y_train.shape)\n",
    "print(X_test.shape)\n",
    "print(y_test.shape)"
   ]
  },
  {
   "cell_type": "code",
   "execution_count": 10,
   "id": "1e3b944f",
   "metadata": {},
   "outputs": [],
   "source": [
    "#let's use grid searchCV, it will help to find optimal numbers for our hyperparameters\n",
    "from sklearn.ensemble import RandomForestClassifier\n",
    "from sklearn.model_selection import GridSearchCV"
   ]
  },
  {
   "cell_type": "code",
   "execution_count": 12,
   "id": "8bc02975",
   "metadata": {},
   "outputs": [],
   "source": [
    "param_grid = {'n_estimators':[50,60,70,80],'max_depth':[5,6,7],'min_samples_split':[5,10]}"
   ]
  },
  {
   "cell_type": "code",
   "execution_count": 13,
   "id": "e1d62d25",
   "metadata": {
    "scrolled": true
   },
   "outputs": [],
   "source": [
    "clf = RandomForestClassifier()\n",
    "gridsearch = GridSearchCV(clf,param_grid,verbose=1)"
   ]
  },
  {
   "cell_type": "code",
   "execution_count": 18,
   "id": "1e9723df",
   "metadata": {},
   "outputs": [],
   "source": [
    "import numpy as np"
   ]
  },
  {
   "cell_type": "code",
   "execution_count": 43,
   "id": "8b251b2f",
   "metadata": {},
   "outputs": [],
   "source": [
    "X_train, X_test, y_train, y_test = np.array(X_train),np.array(X_test),np.array(y_train).reshape(-1,),np.array(y_test).reshape(-1,)"
   ]
  },
  {
   "cell_type": "code",
   "execution_count": 44,
   "id": "580202a2",
   "metadata": {},
   "outputs": [
    {
     "name": "stdout",
     "output_type": "stream",
     "text": [
      "Fitting 5 folds for each of 24 candidates, totalling 120 fits\n"
     ]
    },
    {
     "data": {
      "text/plain": [
       "GridSearchCV(estimator=RandomForestClassifier(),\n",
       "             param_grid={'max_depth': [5, 6, 7], 'min_samples_split': [5, 10],\n",
       "                         'n_estimators': [50, 60, 70, 80]},\n",
       "             verbose=1)"
      ]
     },
     "execution_count": 44,
     "metadata": {},
     "output_type": "execute_result"
    }
   ],
   "source": [
    "gridsearch.fit(X_train,y_train)"
   ]
  },
  {
   "cell_type": "code",
   "execution_count": 45,
   "id": "3aa8d8a6",
   "metadata": {},
   "outputs": [
    {
     "data": {
      "text/plain": [
       "{'max_depth': 5, 'min_samples_split': 5, 'n_estimators': 80}"
      ]
     },
     "execution_count": 45,
     "metadata": {},
     "output_type": "execute_result"
    }
   ],
   "source": [
    "gridsearch.best_params_"
   ]
  },
  {
   "cell_type": "code",
   "execution_count": null,
   "id": "c1c1f740",
   "metadata": {},
   "outputs": [],
   "source": [
    "# all the parameters are at edges we need tune it further by changing the param_grid"
   ]
  },
  {
   "cell_type": "code",
   "execution_count": 46,
   "id": "ef37bbce",
   "metadata": {},
   "outputs": [],
   "source": [
    "param_grid = {'n_estimators':[80,90,100],'max_depth':[3,4,5],'min_samples_split':[5,10]}"
   ]
  },
  {
   "cell_type": "code",
   "execution_count": 47,
   "id": "8c553c19",
   "metadata": {},
   "outputs": [],
   "source": [
    "clf = RandomForestClassifier()\n",
    "gridsearch = GridSearchCV(clf,param_grid,verbose=2)"
   ]
  },
  {
   "cell_type": "code",
   "execution_count": 48,
   "id": "c8d82c37",
   "metadata": {
    "scrolled": true
   },
   "outputs": [
    {
     "name": "stdout",
     "output_type": "stream",
     "text": [
      "Fitting 5 folds for each of 18 candidates, totalling 90 fits\n",
      "[CV] END ..max_depth=3, min_samples_split=5, n_estimators=80; total time=   0.0s\n",
      "[CV] END ..max_depth=3, min_samples_split=5, n_estimators=80; total time=   0.0s\n",
      "[CV] END ..max_depth=3, min_samples_split=5, n_estimators=80; total time=   0.0s\n",
      "[CV] END ..max_depth=3, min_samples_split=5, n_estimators=80; total time=   0.0s\n",
      "[CV] END ..max_depth=3, min_samples_split=5, n_estimators=80; total time=   0.0s\n",
      "[CV] END ..max_depth=3, min_samples_split=5, n_estimators=90; total time=   0.0s\n",
      "[CV] END ..max_depth=3, min_samples_split=5, n_estimators=90; total time=   0.0s\n",
      "[CV] END ..max_depth=3, min_samples_split=5, n_estimators=90; total time=   0.0s\n",
      "[CV] END ..max_depth=3, min_samples_split=5, n_estimators=90; total time=   0.0s\n",
      "[CV] END ..max_depth=3, min_samples_split=5, n_estimators=90; total time=   0.0s\n",
      "[CV] END .max_depth=3, min_samples_split=5, n_estimators=100; total time=   0.0s\n",
      "[CV] END .max_depth=3, min_samples_split=5, n_estimators=100; total time=   0.0s\n",
      "[CV] END .max_depth=3, min_samples_split=5, n_estimators=100; total time=   0.1s\n",
      "[CV] END .max_depth=3, min_samples_split=5, n_estimators=100; total time=   0.0s\n",
      "[CV] END .max_depth=3, min_samples_split=5, n_estimators=100; total time=   0.1s\n",
      "[CV] END .max_depth=3, min_samples_split=10, n_estimators=80; total time=   0.0s\n",
      "[CV] END .max_depth=3, min_samples_split=10, n_estimators=80; total time=   0.0s\n",
      "[CV] END .max_depth=3, min_samples_split=10, n_estimators=80; total time=   0.0s\n",
      "[CV] END .max_depth=3, min_samples_split=10, n_estimators=80; total time=   0.0s\n",
      "[CV] END .max_depth=3, min_samples_split=10, n_estimators=80; total time=   0.0s\n",
      "[CV] END .max_depth=3, min_samples_split=10, n_estimators=90; total time=   0.0s\n",
      "[CV] END .max_depth=3, min_samples_split=10, n_estimators=90; total time=   0.0s\n",
      "[CV] END .max_depth=3, min_samples_split=10, n_estimators=90; total time=   0.0s\n",
      "[CV] END .max_depth=3, min_samples_split=10, n_estimators=90; total time=   0.0s\n",
      "[CV] END .max_depth=3, min_samples_split=10, n_estimators=90; total time=   0.0s\n",
      "[CV] END max_depth=3, min_samples_split=10, n_estimators=100; total time=   0.0s\n",
      "[CV] END max_depth=3, min_samples_split=10, n_estimators=100; total time=   0.0s\n",
      "[CV] END max_depth=3, min_samples_split=10, n_estimators=100; total time=   0.0s\n",
      "[CV] END max_depth=3, min_samples_split=10, n_estimators=100; total time=   0.0s\n",
      "[CV] END max_depth=3, min_samples_split=10, n_estimators=100; total time=   0.0s\n",
      "[CV] END ..max_depth=4, min_samples_split=5, n_estimators=80; total time=   0.0s\n",
      "[CV] END ..max_depth=4, min_samples_split=5, n_estimators=80; total time=   0.0s\n",
      "[CV] END ..max_depth=4, min_samples_split=5, n_estimators=80; total time=   0.0s\n",
      "[CV] END ..max_depth=4, min_samples_split=5, n_estimators=80; total time=   0.0s\n",
      "[CV] END ..max_depth=4, min_samples_split=5, n_estimators=80; total time=   0.0s\n",
      "[CV] END ..max_depth=4, min_samples_split=5, n_estimators=90; total time=   0.0s\n",
      "[CV] END ..max_depth=4, min_samples_split=5, n_estimators=90; total time=   0.0s\n",
      "[CV] END ..max_depth=4, min_samples_split=5, n_estimators=90; total time=   0.0s\n",
      "[CV] END ..max_depth=4, min_samples_split=5, n_estimators=90; total time=   0.0s\n",
      "[CV] END ..max_depth=4, min_samples_split=5, n_estimators=90; total time=   0.0s\n",
      "[CV] END .max_depth=4, min_samples_split=5, n_estimators=100; total time=   0.0s\n",
      "[CV] END .max_depth=4, min_samples_split=5, n_estimators=100; total time=   0.0s\n",
      "[CV] END .max_depth=4, min_samples_split=5, n_estimators=100; total time=   0.0s\n",
      "[CV] END .max_depth=4, min_samples_split=5, n_estimators=100; total time=   0.0s\n",
      "[CV] END .max_depth=4, min_samples_split=5, n_estimators=100; total time=   0.0s\n",
      "[CV] END .max_depth=4, min_samples_split=10, n_estimators=80; total time=   0.0s\n",
      "[CV] END .max_depth=4, min_samples_split=10, n_estimators=80; total time=   0.0s\n",
      "[CV] END .max_depth=4, min_samples_split=10, n_estimators=80; total time=   0.0s\n",
      "[CV] END .max_depth=4, min_samples_split=10, n_estimators=80; total time=   0.0s\n",
      "[CV] END .max_depth=4, min_samples_split=10, n_estimators=80; total time=   0.0s\n",
      "[CV] END .max_depth=4, min_samples_split=10, n_estimators=90; total time=   0.0s\n",
      "[CV] END .max_depth=4, min_samples_split=10, n_estimators=90; total time=   0.0s\n",
      "[CV] END .max_depth=4, min_samples_split=10, n_estimators=90; total time=   0.0s\n",
      "[CV] END .max_depth=4, min_samples_split=10, n_estimators=90; total time=   0.0s\n",
      "[CV] END .max_depth=4, min_samples_split=10, n_estimators=90; total time=   0.0s\n",
      "[CV] END max_depth=4, min_samples_split=10, n_estimators=100; total time=   0.0s\n",
      "[CV] END max_depth=4, min_samples_split=10, n_estimators=100; total time=   0.0s\n",
      "[CV] END max_depth=4, min_samples_split=10, n_estimators=100; total time=   0.0s\n",
      "[CV] END max_depth=4, min_samples_split=10, n_estimators=100; total time=   0.0s\n",
      "[CV] END max_depth=4, min_samples_split=10, n_estimators=100; total time=   0.0s\n",
      "[CV] END ..max_depth=5, min_samples_split=5, n_estimators=80; total time=   0.0s\n",
      "[CV] END ..max_depth=5, min_samples_split=5, n_estimators=80; total time=   0.0s\n",
      "[CV] END ..max_depth=5, min_samples_split=5, n_estimators=80; total time=   0.0s\n",
      "[CV] END ..max_depth=5, min_samples_split=5, n_estimators=80; total time=   0.0s\n",
      "[CV] END ..max_depth=5, min_samples_split=5, n_estimators=80; total time=   0.0s\n",
      "[CV] END ..max_depth=5, min_samples_split=5, n_estimators=90; total time=   0.0s\n",
      "[CV] END ..max_depth=5, min_samples_split=5, n_estimators=90; total time=   0.0s\n",
      "[CV] END ..max_depth=5, min_samples_split=5, n_estimators=90; total time=   0.0s\n",
      "[CV] END ..max_depth=5, min_samples_split=5, n_estimators=90; total time=   0.0s\n",
      "[CV] END ..max_depth=5, min_samples_split=5, n_estimators=90; total time=   0.0s\n",
      "[CV] END .max_depth=5, min_samples_split=5, n_estimators=100; total time=   0.0s\n",
      "[CV] END .max_depth=5, min_samples_split=5, n_estimators=100; total time=   0.0s\n",
      "[CV] END .max_depth=5, min_samples_split=5, n_estimators=100; total time=   0.0s\n",
      "[CV] END .max_depth=5, min_samples_split=5, n_estimators=100; total time=   0.1s\n",
      "[CV] END .max_depth=5, min_samples_split=5, n_estimators=100; total time=   0.1s\n",
      "[CV] END .max_depth=5, min_samples_split=10, n_estimators=80; total time=   0.0s\n",
      "[CV] END .max_depth=5, min_samples_split=10, n_estimators=80; total time=   0.0s\n",
      "[CV] END .max_depth=5, min_samples_split=10, n_estimators=80; total time=   0.0s\n",
      "[CV] END .max_depth=5, min_samples_split=10, n_estimators=80; total time=   0.0s\n",
      "[CV] END .max_depth=5, min_samples_split=10, n_estimators=80; total time=   0.0s\n",
      "[CV] END .max_depth=5, min_samples_split=10, n_estimators=90; total time=   0.1s\n",
      "[CV] END .max_depth=5, min_samples_split=10, n_estimators=90; total time=   0.1s\n",
      "[CV] END .max_depth=5, min_samples_split=10, n_estimators=90; total time=   0.1s\n",
      "[CV] END .max_depth=5, min_samples_split=10, n_estimators=90; total time=   0.0s\n",
      "[CV] END .max_depth=5, min_samples_split=10, n_estimators=90; total time=   0.1s\n",
      "[CV] END max_depth=5, min_samples_split=10, n_estimators=100; total time=   0.1s\n",
      "[CV] END max_depth=5, min_samples_split=10, n_estimators=100; total time=   0.0s\n",
      "[CV] END max_depth=5, min_samples_split=10, n_estimators=100; total time=   0.1s\n",
      "[CV] END max_depth=5, min_samples_split=10, n_estimators=100; total time=   0.0s\n",
      "[CV] END max_depth=5, min_samples_split=10, n_estimators=100; total time=   0.1s\n"
     ]
    },
    {
     "data": {
      "text/plain": [
       "GridSearchCV(estimator=RandomForestClassifier(),\n",
       "             param_grid={'max_depth': [3, 4, 5], 'min_samples_split': [5, 10],\n",
       "                         'n_estimators': [80, 90, 100]},\n",
       "             verbose=2)"
      ]
     },
     "execution_count": 48,
     "metadata": {},
     "output_type": "execute_result"
    }
   ],
   "source": [
    "gridsearch.fit(X_train,y_train)"
   ]
  },
  {
   "cell_type": "code",
   "execution_count": 49,
   "id": "af1bae70",
   "metadata": {},
   "outputs": [
    {
     "data": {
      "text/plain": [
       "{'max_depth': 4, 'min_samples_split': 10, 'n_estimators': 100}"
      ]
     },
     "execution_count": 49,
     "metadata": {},
     "output_type": "execute_result"
    }
   ],
   "source": [
    "gridsearch.best_params_"
   ]
  },
  {
   "cell_type": "code",
   "execution_count": 50,
   "id": "7aeda33d",
   "metadata": {},
   "outputs": [],
   "source": [
    "param_grid = {'n_estimators':[100,110,120],'max_depth':[3,4,5],'min_samples_split':[5,10,15]}"
   ]
  },
  {
   "cell_type": "code",
   "execution_count": 51,
   "id": "864cdf2c",
   "metadata": {},
   "outputs": [],
   "source": [
    "clf = RandomForestClassifier()\n",
    "gridsearch = GridSearchCV(clf,param_grid,verbose=2)"
   ]
  },
  {
   "cell_type": "code",
   "execution_count": 52,
   "id": "575d7b91",
   "metadata": {},
   "outputs": [
    {
     "name": "stdout",
     "output_type": "stream",
     "text": [
      "Fitting 5 folds for each of 27 candidates, totalling 135 fits\n",
      "[CV] END .max_depth=3, min_samples_split=5, n_estimators=100; total time=   0.1s\n",
      "[CV] END .max_depth=3, min_samples_split=5, n_estimators=100; total time=   0.0s\n",
      "[CV] END .max_depth=3, min_samples_split=5, n_estimators=100; total time=   0.0s\n",
      "[CV] END .max_depth=3, min_samples_split=5, n_estimators=100; total time=   0.1s\n",
      "[CV] END .max_depth=3, min_samples_split=5, n_estimators=100; total time=   0.0s\n",
      "[CV] END .max_depth=3, min_samples_split=5, n_estimators=110; total time=   0.0s\n",
      "[CV] END .max_depth=3, min_samples_split=5, n_estimators=110; total time=   0.0s\n",
      "[CV] END .max_depth=3, min_samples_split=5, n_estimators=110; total time=   0.1s\n",
      "[CV] END .max_depth=3, min_samples_split=5, n_estimators=110; total time=   0.0s\n",
      "[CV] END .max_depth=3, min_samples_split=5, n_estimators=110; total time=   0.0s\n",
      "[CV] END .max_depth=3, min_samples_split=5, n_estimators=120; total time=   0.1s\n",
      "[CV] END .max_depth=3, min_samples_split=5, n_estimators=120; total time=   0.1s\n",
      "[CV] END .max_depth=3, min_samples_split=5, n_estimators=120; total time=   0.1s\n",
      "[CV] END .max_depth=3, min_samples_split=5, n_estimators=120; total time=   0.1s\n",
      "[CV] END .max_depth=3, min_samples_split=5, n_estimators=120; total time=   0.0s\n",
      "[CV] END max_depth=3, min_samples_split=10, n_estimators=100; total time=   0.1s\n",
      "[CV] END max_depth=3, min_samples_split=10, n_estimators=100; total time=   0.0s\n",
      "[CV] END max_depth=3, min_samples_split=10, n_estimators=100; total time=   0.0s\n",
      "[CV] END max_depth=3, min_samples_split=10, n_estimators=100; total time=   0.0s\n",
      "[CV] END max_depth=3, min_samples_split=10, n_estimators=100; total time=   0.1s\n",
      "[CV] END max_depth=3, min_samples_split=10, n_estimators=110; total time=   0.0s\n",
      "[CV] END max_depth=3, min_samples_split=10, n_estimators=110; total time=   0.1s\n",
      "[CV] END max_depth=3, min_samples_split=10, n_estimators=110; total time=   0.1s\n",
      "[CV] END max_depth=3, min_samples_split=10, n_estimators=110; total time=   0.1s\n",
      "[CV] END max_depth=3, min_samples_split=10, n_estimators=110; total time=   0.0s\n",
      "[CV] END max_depth=3, min_samples_split=10, n_estimators=120; total time=   0.0s\n",
      "[CV] END max_depth=3, min_samples_split=10, n_estimators=120; total time=   0.1s\n",
      "[CV] END max_depth=3, min_samples_split=10, n_estimators=120; total time=   0.1s\n",
      "[CV] END max_depth=3, min_samples_split=10, n_estimators=120; total time=   0.0s\n",
      "[CV] END max_depth=3, min_samples_split=10, n_estimators=120; total time=   0.1s\n",
      "[CV] END max_depth=3, min_samples_split=15, n_estimators=100; total time=   0.0s\n",
      "[CV] END max_depth=3, min_samples_split=15, n_estimators=100; total time=   0.0s\n",
      "[CV] END max_depth=3, min_samples_split=15, n_estimators=100; total time=   0.0s\n",
      "[CV] END max_depth=3, min_samples_split=15, n_estimators=100; total time=   0.0s\n",
      "[CV] END max_depth=3, min_samples_split=15, n_estimators=100; total time=   0.0s\n",
      "[CV] END max_depth=3, min_samples_split=15, n_estimators=110; total time=   0.0s\n",
      "[CV] END max_depth=3, min_samples_split=15, n_estimators=110; total time=   0.0s\n",
      "[CV] END max_depth=3, min_samples_split=15, n_estimators=110; total time=   0.0s\n",
      "[CV] END max_depth=3, min_samples_split=15, n_estimators=110; total time=   0.0s\n",
      "[CV] END max_depth=3, min_samples_split=15, n_estimators=110; total time=   0.1s\n",
      "[CV] END max_depth=3, min_samples_split=15, n_estimators=120; total time=   0.1s\n",
      "[CV] END max_depth=3, min_samples_split=15, n_estimators=120; total time=   0.1s\n",
      "[CV] END max_depth=3, min_samples_split=15, n_estimators=120; total time=   0.1s\n",
      "[CV] END max_depth=3, min_samples_split=15, n_estimators=120; total time=   0.1s\n",
      "[CV] END max_depth=3, min_samples_split=15, n_estimators=120; total time=   0.0s\n",
      "[CV] END .max_depth=4, min_samples_split=5, n_estimators=100; total time=   0.0s\n",
      "[CV] END .max_depth=4, min_samples_split=5, n_estimators=100; total time=   0.0s\n",
      "[CV] END .max_depth=4, min_samples_split=5, n_estimators=100; total time=   0.0s\n",
      "[CV] END .max_depth=4, min_samples_split=5, n_estimators=100; total time=   0.0s\n",
      "[CV] END .max_depth=4, min_samples_split=5, n_estimators=100; total time=   0.0s\n",
      "[CV] END .max_depth=4, min_samples_split=5, n_estimators=110; total time=   0.0s\n",
      "[CV] END .max_depth=4, min_samples_split=5, n_estimators=110; total time=   0.0s\n",
      "[CV] END .max_depth=4, min_samples_split=5, n_estimators=110; total time=   0.0s\n",
      "[CV] END .max_depth=4, min_samples_split=5, n_estimators=110; total time=   0.0s\n",
      "[CV] END .max_depth=4, min_samples_split=5, n_estimators=110; total time=   0.0s\n",
      "[CV] END .max_depth=4, min_samples_split=5, n_estimators=120; total time=   0.0s\n",
      "[CV] END .max_depth=4, min_samples_split=5, n_estimators=120; total time=   0.0s\n",
      "[CV] END .max_depth=4, min_samples_split=5, n_estimators=120; total time=   0.0s\n",
      "[CV] END .max_depth=4, min_samples_split=5, n_estimators=120; total time=   0.0s\n",
      "[CV] END .max_depth=4, min_samples_split=5, n_estimators=120; total time=   0.0s\n",
      "[CV] END max_depth=4, min_samples_split=10, n_estimators=100; total time=   0.0s\n",
      "[CV] END max_depth=4, min_samples_split=10, n_estimators=100; total time=   0.0s\n",
      "[CV] END max_depth=4, min_samples_split=10, n_estimators=100; total time=   0.0s\n",
      "[CV] END max_depth=4, min_samples_split=10, n_estimators=100; total time=   0.1s\n",
      "[CV] END max_depth=4, min_samples_split=10, n_estimators=100; total time=   0.1s\n",
      "[CV] END max_depth=4, min_samples_split=10, n_estimators=110; total time=   0.1s\n",
      "[CV] END max_depth=4, min_samples_split=10, n_estimators=110; total time=   0.0s\n",
      "[CV] END max_depth=4, min_samples_split=10, n_estimators=110; total time=   0.0s\n",
      "[CV] END max_depth=4, min_samples_split=10, n_estimators=110; total time=   0.0s\n",
      "[CV] END max_depth=4, min_samples_split=10, n_estimators=110; total time=   0.0s\n",
      "[CV] END max_depth=4, min_samples_split=10, n_estimators=120; total time=   0.0s\n",
      "[CV] END max_depth=4, min_samples_split=10, n_estimators=120; total time=   0.0s\n",
      "[CV] END max_depth=4, min_samples_split=10, n_estimators=120; total time=   0.0s\n",
      "[CV] END max_depth=4, min_samples_split=10, n_estimators=120; total time=   0.1s\n",
      "[CV] END max_depth=4, min_samples_split=10, n_estimators=120; total time=   0.1s\n",
      "[CV] END max_depth=4, min_samples_split=15, n_estimators=100; total time=   0.0s\n",
      "[CV] END max_depth=4, min_samples_split=15, n_estimators=100; total time=   0.0s\n",
      "[CV] END max_depth=4, min_samples_split=15, n_estimators=100; total time=   0.1s\n",
      "[CV] END max_depth=4, min_samples_split=15, n_estimators=100; total time=   0.1s\n",
      "[CV] END max_depth=4, min_samples_split=15, n_estimators=100; total time=   0.1s\n",
      "[CV] END max_depth=4, min_samples_split=15, n_estimators=110; total time=   0.1s\n",
      "[CV] END max_depth=4, min_samples_split=15, n_estimators=110; total time=   0.0s\n",
      "[CV] END max_depth=4, min_samples_split=15, n_estimators=110; total time=   0.0s\n",
      "[CV] END max_depth=4, min_samples_split=15, n_estimators=110; total time=   0.0s\n",
      "[CV] END max_depth=4, min_samples_split=15, n_estimators=110; total time=   0.0s\n",
      "[CV] END max_depth=4, min_samples_split=15, n_estimators=120; total time=   0.0s\n",
      "[CV] END max_depth=4, min_samples_split=15, n_estimators=120; total time=   0.0s\n",
      "[CV] END max_depth=4, min_samples_split=15, n_estimators=120; total time=   0.1s\n",
      "[CV] END max_depth=4, min_samples_split=15, n_estimators=120; total time=   0.0s\n",
      "[CV] END max_depth=4, min_samples_split=15, n_estimators=120; total time=   0.1s\n",
      "[CV] END .max_depth=5, min_samples_split=5, n_estimators=100; total time=   0.0s\n",
      "[CV] END .max_depth=5, min_samples_split=5, n_estimators=100; total time=   0.0s\n",
      "[CV] END .max_depth=5, min_samples_split=5, n_estimators=100; total time=   0.0s\n",
      "[CV] END .max_depth=5, min_samples_split=5, n_estimators=100; total time=   0.0s\n",
      "[CV] END .max_depth=5, min_samples_split=5, n_estimators=100; total time=   0.0s\n",
      "[CV] END .max_depth=5, min_samples_split=5, n_estimators=110; total time=   0.0s\n",
      "[CV] END .max_depth=5, min_samples_split=5, n_estimators=110; total time=   0.0s\n",
      "[CV] END .max_depth=5, min_samples_split=5, n_estimators=110; total time=   0.0s\n",
      "[CV] END .max_depth=5, min_samples_split=5, n_estimators=110; total time=   0.0s\n",
      "[CV] END .max_depth=5, min_samples_split=5, n_estimators=110; total time=   0.0s\n",
      "[CV] END .max_depth=5, min_samples_split=5, n_estimators=120; total time=   0.0s\n"
     ]
    },
    {
     "name": "stdout",
     "output_type": "stream",
     "text": [
      "[CV] END .max_depth=5, min_samples_split=5, n_estimators=120; total time=   0.0s\n",
      "[CV] END .max_depth=5, min_samples_split=5, n_estimators=120; total time=   0.0s\n",
      "[CV] END .max_depth=5, min_samples_split=5, n_estimators=120; total time=   0.1s\n",
      "[CV] END .max_depth=5, min_samples_split=5, n_estimators=120; total time=   0.1s\n",
      "[CV] END max_depth=5, min_samples_split=10, n_estimators=100; total time=   0.1s\n",
      "[CV] END max_depth=5, min_samples_split=10, n_estimators=100; total time=   0.0s\n",
      "[CV] END max_depth=5, min_samples_split=10, n_estimators=100; total time=   0.1s\n",
      "[CV] END max_depth=5, min_samples_split=10, n_estimators=100; total time=   0.0s\n",
      "[CV] END max_depth=5, min_samples_split=10, n_estimators=100; total time=   0.0s\n",
      "[CV] END max_depth=5, min_samples_split=10, n_estimators=110; total time=   0.1s\n",
      "[CV] END max_depth=5, min_samples_split=10, n_estimators=110; total time=   0.1s\n",
      "[CV] END max_depth=5, min_samples_split=10, n_estimators=110; total time=   0.0s\n",
      "[CV] END max_depth=5, min_samples_split=10, n_estimators=110; total time=   0.1s\n",
      "[CV] END max_depth=5, min_samples_split=10, n_estimators=110; total time=   0.1s\n",
      "[CV] END max_depth=5, min_samples_split=10, n_estimators=120; total time=   0.1s\n",
      "[CV] END max_depth=5, min_samples_split=10, n_estimators=120; total time=   0.1s\n",
      "[CV] END max_depth=5, min_samples_split=10, n_estimators=120; total time=   0.1s\n",
      "[CV] END max_depth=5, min_samples_split=10, n_estimators=120; total time=   0.1s\n",
      "[CV] END max_depth=5, min_samples_split=10, n_estimators=120; total time=   0.1s\n",
      "[CV] END max_depth=5, min_samples_split=15, n_estimators=100; total time=   0.0s\n",
      "[CV] END max_depth=5, min_samples_split=15, n_estimators=100; total time=   0.0s\n",
      "[CV] END max_depth=5, min_samples_split=15, n_estimators=100; total time=   0.1s\n",
      "[CV] END max_depth=5, min_samples_split=15, n_estimators=100; total time=   0.1s\n",
      "[CV] END max_depth=5, min_samples_split=15, n_estimators=100; total time=   0.0s\n",
      "[CV] END max_depth=5, min_samples_split=15, n_estimators=110; total time=   0.1s\n",
      "[CV] END max_depth=5, min_samples_split=15, n_estimators=110; total time=   0.1s\n",
      "[CV] END max_depth=5, min_samples_split=15, n_estimators=110; total time=   0.1s\n",
      "[CV] END max_depth=5, min_samples_split=15, n_estimators=110; total time=   0.0s\n",
      "[CV] END max_depth=5, min_samples_split=15, n_estimators=110; total time=   0.0s\n",
      "[CV] END max_depth=5, min_samples_split=15, n_estimators=120; total time=   0.0s\n",
      "[CV] END max_depth=5, min_samples_split=15, n_estimators=120; total time=   0.0s\n",
      "[CV] END max_depth=5, min_samples_split=15, n_estimators=120; total time=   0.0s\n",
      "[CV] END max_depth=5, min_samples_split=15, n_estimators=120; total time=   0.1s\n",
      "[CV] END max_depth=5, min_samples_split=15, n_estimators=120; total time=   0.1s\n"
     ]
    },
    {
     "data": {
      "text/plain": [
       "GridSearchCV(estimator=RandomForestClassifier(),\n",
       "             param_grid={'max_depth': [3, 4, 5],\n",
       "                         'min_samples_split': [5, 10, 15],\n",
       "                         'n_estimators': [100, 110, 120]},\n",
       "             verbose=2)"
      ]
     },
     "execution_count": 52,
     "metadata": {},
     "output_type": "execute_result"
    }
   ],
   "source": [
    "gridsearch.fit(X_train,y_train)"
   ]
  },
  {
   "cell_type": "code",
   "execution_count": 53,
   "id": "2c45b025",
   "metadata": {},
   "outputs": [
    {
     "data": {
      "text/plain": [
       "{'max_depth': 5, 'min_samples_split': 15, 'n_estimators': 100}"
      ]
     },
     "execution_count": 53,
     "metadata": {},
     "output_type": "execute_result"
    }
   ],
   "source": [
    "gridsearch.best_params_"
   ]
  },
  {
   "cell_type": "code",
   "execution_count": 54,
   "id": "89b44275",
   "metadata": {},
   "outputs": [],
   "source": [
    "param_grid = {'n_estimators':[90,100,110],'max_depth':[5,6,7],'min_samples_split':[10,15,20]}"
   ]
  },
  {
   "cell_type": "code",
   "execution_count": 55,
   "id": "9a44ba5b",
   "metadata": {},
   "outputs": [],
   "source": [
    "clf = RandomForestClassifier()\n",
    "gridsearch = GridSearchCV(clf,param_grid,verbose=2)"
   ]
  },
  {
   "cell_type": "code",
   "execution_count": 56,
   "id": "2450a443",
   "metadata": {
    "scrolled": true
   },
   "outputs": [
    {
     "name": "stdout",
     "output_type": "stream",
     "text": [
      "Fitting 5 folds for each of 27 candidates, totalling 135 fits\n",
      "[CV] END .max_depth=5, min_samples_split=10, n_estimators=90; total time=   0.0s\n",
      "[CV] END .max_depth=5, min_samples_split=10, n_estimators=90; total time=   0.0s\n",
      "[CV] END .max_depth=5, min_samples_split=10, n_estimators=90; total time=   0.0s\n",
      "[CV] END .max_depth=5, min_samples_split=10, n_estimators=90; total time=   0.0s\n",
      "[CV] END .max_depth=5, min_samples_split=10, n_estimators=90; total time=   0.0s\n",
      "[CV] END max_depth=5, min_samples_split=10, n_estimators=100; total time=   0.1s\n",
      "[CV] END max_depth=5, min_samples_split=10, n_estimators=100; total time=   0.1s\n",
      "[CV] END max_depth=5, min_samples_split=10, n_estimators=100; total time=   0.1s\n",
      "[CV] END max_depth=5, min_samples_split=10, n_estimators=100; total time=   0.0s\n",
      "[CV] END max_depth=5, min_samples_split=10, n_estimators=100; total time=   0.1s\n",
      "[CV] END max_depth=5, min_samples_split=10, n_estimators=110; total time=   0.0s\n",
      "[CV] END max_depth=5, min_samples_split=10, n_estimators=110; total time=   0.0s\n",
      "[CV] END max_depth=5, min_samples_split=10, n_estimators=110; total time=   0.0s\n",
      "[CV] END max_depth=5, min_samples_split=10, n_estimators=110; total time=   0.0s\n",
      "[CV] END max_depth=5, min_samples_split=10, n_estimators=110; total time=   0.0s\n",
      "[CV] END .max_depth=5, min_samples_split=15, n_estimators=90; total time=   0.0s\n",
      "[CV] END .max_depth=5, min_samples_split=15, n_estimators=90; total time=   0.0s\n",
      "[CV] END .max_depth=5, min_samples_split=15, n_estimators=90; total time=   0.0s\n",
      "[CV] END .max_depth=5, min_samples_split=15, n_estimators=90; total time=   0.0s\n",
      "[CV] END .max_depth=5, min_samples_split=15, n_estimators=90; total time=   0.0s\n",
      "[CV] END max_depth=5, min_samples_split=15, n_estimators=100; total time=   0.0s\n",
      "[CV] END max_depth=5, min_samples_split=15, n_estimators=100; total time=   0.0s\n",
      "[CV] END max_depth=5, min_samples_split=15, n_estimators=100; total time=   0.0s\n",
      "[CV] END max_depth=5, min_samples_split=15, n_estimators=100; total time=   0.1s\n",
      "[CV] END max_depth=5, min_samples_split=15, n_estimators=100; total time=   0.0s\n",
      "[CV] END max_depth=5, min_samples_split=15, n_estimators=110; total time=   0.1s\n",
      "[CV] END max_depth=5, min_samples_split=15, n_estimators=110; total time=   0.1s\n",
      "[CV] END max_depth=5, min_samples_split=15, n_estimators=110; total time=   0.1s\n",
      "[CV] END max_depth=5, min_samples_split=15, n_estimators=110; total time=   0.0s\n",
      "[CV] END max_depth=5, min_samples_split=15, n_estimators=110; total time=   0.0s\n",
      "[CV] END .max_depth=5, min_samples_split=20, n_estimators=90; total time=   0.0s\n",
      "[CV] END .max_depth=5, min_samples_split=20, n_estimators=90; total time=   0.0s\n",
      "[CV] END .max_depth=5, min_samples_split=20, n_estimators=90; total time=   0.0s\n",
      "[CV] END .max_depth=5, min_samples_split=20, n_estimators=90; total time=   0.0s\n",
      "[CV] END .max_depth=5, min_samples_split=20, n_estimators=90; total time=   0.0s\n",
      "[CV] END max_depth=5, min_samples_split=20, n_estimators=100; total time=   0.0s\n",
      "[CV] END max_depth=5, min_samples_split=20, n_estimators=100; total time=   0.0s\n",
      "[CV] END max_depth=5, min_samples_split=20, n_estimators=100; total time=   0.0s\n",
      "[CV] END max_depth=5, min_samples_split=20, n_estimators=100; total time=   0.1s\n",
      "[CV] END max_depth=5, min_samples_split=20, n_estimators=100; total time=   0.1s\n",
      "[CV] END max_depth=5, min_samples_split=20, n_estimators=110; total time=   0.1s\n",
      "[CV] END max_depth=5, min_samples_split=20, n_estimators=110; total time=   0.1s\n",
      "[CV] END max_depth=5, min_samples_split=20, n_estimators=110; total time=   0.1s\n",
      "[CV] END max_depth=5, min_samples_split=20, n_estimators=110; total time=   0.0s\n",
      "[CV] END max_depth=5, min_samples_split=20, n_estimators=110; total time=   0.1s\n",
      "[CV] END .max_depth=6, min_samples_split=10, n_estimators=90; total time=   0.0s\n",
      "[CV] END .max_depth=6, min_samples_split=10, n_estimators=90; total time=   0.0s\n",
      "[CV] END .max_depth=6, min_samples_split=10, n_estimators=90; total time=   0.1s\n",
      "[CV] END .max_depth=6, min_samples_split=10, n_estimators=90; total time=   0.0s\n",
      "[CV] END .max_depth=6, min_samples_split=10, n_estimators=90; total time=   0.0s\n",
      "[CV] END max_depth=6, min_samples_split=10, n_estimators=100; total time=   0.0s\n",
      "[CV] END max_depth=6, min_samples_split=10, n_estimators=100; total time=   0.0s\n",
      "[CV] END max_depth=6, min_samples_split=10, n_estimators=100; total time=   0.1s\n",
      "[CV] END max_depth=6, min_samples_split=10, n_estimators=100; total time=   0.0s\n",
      "[CV] END max_depth=6, min_samples_split=10, n_estimators=100; total time=   0.0s\n",
      "[CV] END max_depth=6, min_samples_split=10, n_estimators=110; total time=   0.1s\n",
      "[CV] END max_depth=6, min_samples_split=10, n_estimators=110; total time=   0.1s\n",
      "[CV] END max_depth=6, min_samples_split=10, n_estimators=110; total time=   0.0s\n",
      "[CV] END max_depth=6, min_samples_split=10, n_estimators=110; total time=   0.0s\n",
      "[CV] END max_depth=6, min_samples_split=10, n_estimators=110; total time=   0.0s\n",
      "[CV] END .max_depth=6, min_samples_split=15, n_estimators=90; total time=   0.0s\n",
      "[CV] END .max_depth=6, min_samples_split=15, n_estimators=90; total time=   0.1s\n",
      "[CV] END .max_depth=6, min_samples_split=15, n_estimators=90; total time=   0.0s\n",
      "[CV] END .max_depth=6, min_samples_split=15, n_estimators=90; total time=   0.0s\n",
      "[CV] END .max_depth=6, min_samples_split=15, n_estimators=90; total time=   0.1s\n",
      "[CV] END max_depth=6, min_samples_split=15, n_estimators=100; total time=   0.0s\n",
      "[CV] END max_depth=6, min_samples_split=15, n_estimators=100; total time=   0.0s\n",
      "[CV] END max_depth=6, min_samples_split=15, n_estimators=100; total time=   0.1s\n",
      "[CV] END max_depth=6, min_samples_split=15, n_estimators=100; total time=   0.0s\n",
      "[CV] END max_depth=6, min_samples_split=15, n_estimators=100; total time=   0.0s\n",
      "[CV] END max_depth=6, min_samples_split=15, n_estimators=110; total time=   0.1s\n",
      "[CV] END max_depth=6, min_samples_split=15, n_estimators=110; total time=   0.0s\n",
      "[CV] END max_depth=6, min_samples_split=15, n_estimators=110; total time=   0.0s\n",
      "[CV] END max_depth=6, min_samples_split=15, n_estimators=110; total time=   0.1s\n",
      "[CV] END max_depth=6, min_samples_split=15, n_estimators=110; total time=   0.1s\n",
      "[CV] END .max_depth=6, min_samples_split=20, n_estimators=90; total time=   0.0s\n",
      "[CV] END .max_depth=6, min_samples_split=20, n_estimators=90; total time=   0.0s\n",
      "[CV] END .max_depth=6, min_samples_split=20, n_estimators=90; total time=   0.0s\n",
      "[CV] END .max_depth=6, min_samples_split=20, n_estimators=90; total time=   0.1s\n",
      "[CV] END .max_depth=6, min_samples_split=20, n_estimators=90; total time=   0.0s\n",
      "[CV] END max_depth=6, min_samples_split=20, n_estimators=100; total time=   0.0s\n",
      "[CV] END max_depth=6, min_samples_split=20, n_estimators=100; total time=   0.1s\n",
      "[CV] END max_depth=6, min_samples_split=20, n_estimators=100; total time=   0.0s\n",
      "[CV] END max_depth=6, min_samples_split=20, n_estimators=100; total time=   0.0s\n",
      "[CV] END max_depth=6, min_samples_split=20, n_estimators=100; total time=   0.1s\n",
      "[CV] END max_depth=6, min_samples_split=20, n_estimators=110; total time=   0.0s\n",
      "[CV] END max_depth=6, min_samples_split=20, n_estimators=110; total time=   0.1s\n",
      "[CV] END max_depth=6, min_samples_split=20, n_estimators=110; total time=   0.1s\n",
      "[CV] END max_depth=6, min_samples_split=20, n_estimators=110; total time=   0.1s\n",
      "[CV] END max_depth=6, min_samples_split=20, n_estimators=110; total time=   0.1s\n",
      "[CV] END .max_depth=7, min_samples_split=10, n_estimators=90; total time=   0.1s\n",
      "[CV] END .max_depth=7, min_samples_split=10, n_estimators=90; total time=   0.1s\n",
      "[CV] END .max_depth=7, min_samples_split=10, n_estimators=90; total time=   0.0s\n",
      "[CV] END .max_depth=7, min_samples_split=10, n_estimators=90; total time=   0.0s\n",
      "[CV] END .max_depth=7, min_samples_split=10, n_estimators=90; total time=   0.0s\n",
      "[CV] END max_depth=7, min_samples_split=10, n_estimators=100; total time=   0.1s\n",
      "[CV] END max_depth=7, min_samples_split=10, n_estimators=100; total time=   0.1s\n",
      "[CV] END max_depth=7, min_samples_split=10, n_estimators=100; total time=   0.1s\n",
      "[CV] END max_depth=7, min_samples_split=10, n_estimators=100; total time=   0.0s\n",
      "[CV] END max_depth=7, min_samples_split=10, n_estimators=100; total time=   0.0s\n",
      "[CV] END max_depth=7, min_samples_split=10, n_estimators=110; total time=   0.1s\n",
      "[CV] END max_depth=7, min_samples_split=10, n_estimators=110; total time=   0.0s\n"
     ]
    },
    {
     "name": "stdout",
     "output_type": "stream",
     "text": [
      "[CV] END max_depth=7, min_samples_split=10, n_estimators=110; total time=   0.0s\n",
      "[CV] END max_depth=7, min_samples_split=10, n_estimators=110; total time=   0.0s\n",
      "[CV] END max_depth=7, min_samples_split=10, n_estimators=110; total time=   0.1s\n",
      "[CV] END .max_depth=7, min_samples_split=15, n_estimators=90; total time=   0.0s\n",
      "[CV] END .max_depth=7, min_samples_split=15, n_estimators=90; total time=   0.0s\n",
      "[CV] END .max_depth=7, min_samples_split=15, n_estimators=90; total time=   0.0s\n",
      "[CV] END .max_depth=7, min_samples_split=15, n_estimators=90; total time=   0.0s\n",
      "[CV] END .max_depth=7, min_samples_split=15, n_estimators=90; total time=   0.0s\n",
      "[CV] END max_depth=7, min_samples_split=15, n_estimators=100; total time=   0.0s\n",
      "[CV] END max_depth=7, min_samples_split=15, n_estimators=100; total time=   0.0s\n",
      "[CV] END max_depth=7, min_samples_split=15, n_estimators=100; total time=   0.0s\n",
      "[CV] END max_depth=7, min_samples_split=15, n_estimators=100; total time=   0.0s\n",
      "[CV] END max_depth=7, min_samples_split=15, n_estimators=100; total time=   0.0s\n",
      "[CV] END max_depth=7, min_samples_split=15, n_estimators=110; total time=   0.0s\n",
      "[CV] END max_depth=7, min_samples_split=15, n_estimators=110; total time=   0.1s\n",
      "[CV] END max_depth=7, min_samples_split=15, n_estimators=110; total time=   0.0s\n",
      "[CV] END max_depth=7, min_samples_split=15, n_estimators=110; total time=   0.0s\n",
      "[CV] END max_depth=7, min_samples_split=15, n_estimators=110; total time=   0.0s\n",
      "[CV] END .max_depth=7, min_samples_split=20, n_estimators=90; total time=   0.0s\n",
      "[CV] END .max_depth=7, min_samples_split=20, n_estimators=90; total time=   0.0s\n",
      "[CV] END .max_depth=7, min_samples_split=20, n_estimators=90; total time=   0.0s\n",
      "[CV] END .max_depth=7, min_samples_split=20, n_estimators=90; total time=   0.0s\n",
      "[CV] END .max_depth=7, min_samples_split=20, n_estimators=90; total time=   0.0s\n",
      "[CV] END max_depth=7, min_samples_split=20, n_estimators=100; total time=   0.0s\n",
      "[CV] END max_depth=7, min_samples_split=20, n_estimators=100; total time=   0.0s\n",
      "[CV] END max_depth=7, min_samples_split=20, n_estimators=100; total time=   0.1s\n",
      "[CV] END max_depth=7, min_samples_split=20, n_estimators=100; total time=   0.1s\n",
      "[CV] END max_depth=7, min_samples_split=20, n_estimators=100; total time=   0.0s\n",
      "[CV] END max_depth=7, min_samples_split=20, n_estimators=110; total time=   0.1s\n",
      "[CV] END max_depth=7, min_samples_split=20, n_estimators=110; total time=   0.1s\n",
      "[CV] END max_depth=7, min_samples_split=20, n_estimators=110; total time=   0.1s\n",
      "[CV] END max_depth=7, min_samples_split=20, n_estimators=110; total time=   0.0s\n",
      "[CV] END max_depth=7, min_samples_split=20, n_estimators=110; total time=   0.1s\n"
     ]
    },
    {
     "data": {
      "text/plain": [
       "GridSearchCV(estimator=RandomForestClassifier(),\n",
       "             param_grid={'max_depth': [5, 6, 7],\n",
       "                         'min_samples_split': [10, 15, 20],\n",
       "                         'n_estimators': [90, 100, 110]},\n",
       "             verbose=2)"
      ]
     },
     "execution_count": 56,
     "metadata": {},
     "output_type": "execute_result"
    }
   ],
   "source": [
    "gridsearch.fit(X_train,y_train)"
   ]
  },
  {
   "cell_type": "code",
   "execution_count": 57,
   "id": "a8341cf4",
   "metadata": {},
   "outputs": [
    {
     "data": {
      "text/plain": [
       "{'max_depth': 7, 'min_samples_split': 15, 'n_estimators': 110}"
      ]
     },
     "execution_count": 57,
     "metadata": {},
     "output_type": "execute_result"
    }
   ],
   "source": [
    "gridsearch.best_params_"
   ]
  },
  {
   "cell_type": "code",
   "execution_count": null,
   "id": "82370d05",
   "metadata": {},
   "outputs": [],
   "source": [
    "#let's move on for now"
   ]
  },
  {
   "cell_type": "code",
   "execution_count": 58,
   "id": "02749e2e",
   "metadata": {},
   "outputs": [],
   "source": [
    "clf = RandomForestClassifier(n_estimators=110, max_depth=7,min_samples_split=15)"
   ]
  },
  {
   "cell_type": "code",
   "execution_count": 59,
   "id": "9ad7a728",
   "metadata": {},
   "outputs": [
    {
     "data": {
      "text/plain": [
       "RandomForestClassifier(max_depth=7, min_samples_split=15, n_estimators=110)"
      ]
     },
     "execution_count": 59,
     "metadata": {},
     "output_type": "execute_result"
    }
   ],
   "source": [
    "clf.fit(X_train,y_train)"
   ]
  },
  {
   "cell_type": "code",
   "execution_count": 60,
   "id": "58b98550",
   "metadata": {},
   "outputs": [],
   "source": [
    "pred = clf.predict(X_test)"
   ]
  },
  {
   "cell_type": "code",
   "execution_count": 62,
   "id": "ce00929d",
   "metadata": {},
   "outputs": [
    {
     "data": {
      "text/plain": [
       "0.7922077922077922"
      ]
     },
     "execution_count": 62,
     "metadata": {},
     "output_type": "execute_result"
    }
   ],
   "source": [
    "from sklearn.metrics import accuracy_score\n",
    "accuracy_score(y_test,pred)"
   ]
  }
 ],
 "metadata": {
  "kernelspec": {
   "display_name": "Python 3 (ipykernel)",
   "language": "python",
   "name": "python3"
  },
  "language_info": {
   "codemirror_mode": {
    "name": "ipython",
    "version": 3
   },
   "file_extension": ".py",
   "mimetype": "text/x-python",
   "name": "python",
   "nbconvert_exporter": "python",
   "pygments_lexer": "ipython3",
   "version": "3.9.12"
  }
 },
 "nbformat": 4,
 "nbformat_minor": 5
}
