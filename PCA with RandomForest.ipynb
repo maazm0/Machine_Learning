{
 "cells": [
  {
   "cell_type": "code",
   "execution_count": 1,
   "id": "d6dc692a",
   "metadata": {},
   "outputs": [],
   "source": [
    "import numpy as np\n",
    "from sklearn.datasets import load_breast_cancer"
   ]
  },
  {
   "cell_type": "code",
   "execution_count": 2,
   "id": "4b9cea22",
   "metadata": {},
   "outputs": [],
   "source": [
    "data = load_breast_cancer()"
   ]
  },
  {
   "cell_type": "code",
   "execution_count": 5,
   "id": "aaf8fa52",
   "metadata": {},
   "outputs": [
    {
     "data": {
      "text/plain": [
       "30"
      ]
     },
     "execution_count": 5,
     "metadata": {},
     "output_type": "execute_result"
    }
   ],
   "source": [
    "len(data.data[0])"
   ]
  },
  {
   "cell_type": "code",
   "execution_count": 6,
   "id": "2d3d28fb",
   "metadata": {},
   "outputs": [
    {
     "data": {
      "text/plain": [
       "array([1.799e+01, 1.038e+01, 1.228e+02, 1.001e+03, 1.184e-01, 2.776e-01,\n",
       "       3.001e-01, 1.471e-01, 2.419e-01, 7.871e-02, 1.095e+00, 9.053e-01,\n",
       "       8.589e+00, 1.534e+02, 6.399e-03, 4.904e-02, 5.373e-02, 1.587e-02,\n",
       "       3.003e-02, 6.193e-03, 2.538e+01, 1.733e+01, 1.846e+02, 2.019e+03,\n",
       "       1.622e-01, 6.656e-01, 7.119e-01, 2.654e-01, 4.601e-01, 1.189e-01])"
      ]
     },
     "execution_count": 6,
     "metadata": {},
     "output_type": "execute_result"
    }
   ],
   "source": [
    "data.data[0]"
   ]
  },
  {
   "cell_type": "code",
   "execution_count": 9,
   "id": "8ccf5bc7",
   "metadata": {},
   "outputs": [],
   "source": [
    "from sklearn.preprocessing import StandardScaler\n",
    "scaler = StandardScaler()\n",
    "X = scaler.fit_transform(data.data)"
   ]
  },
  {
   "cell_type": "code",
   "execution_count": 11,
   "id": "107003a0",
   "metadata": {},
   "outputs": [
    {
     "data": {
      "text/plain": [
       "PCA()"
      ]
     },
     "execution_count": 11,
     "metadata": {},
     "output_type": "execute_result"
    }
   ],
   "source": [
    "from sklearn.decomposition import PCA\n",
    "pca = PCA()\n",
    "pca.fit(X)"
   ]
  },
  {
   "cell_type": "code",
   "execution_count": 19,
   "id": "536a73ed",
   "metadata": {},
   "outputs": [
    {
     "data": {
      "text/plain": [
       "0.44272025607526305"
      ]
     },
     "execution_count": 19,
     "metadata": {},
     "output_type": "execute_result"
    }
   ],
   "source": [
    "pca.explained_variance_ratio_[0] # so the first newly created variable will give 44.27% of variance"
   ]
  },
  {
   "cell_type": "code",
   "execution_count": null,
   "id": "2ef9d4c8",
   "metadata": {},
   "outputs": [],
   "source": [
    "# lets say we want 95% variance and lose 5% and in return and we can drop many variable, so let's try"
   ]
  },
  {
   "cell_type": "code",
   "execution_count": 21,
   "id": "74993fff",
   "metadata": {},
   "outputs": [
    {
     "data": {
      "text/plain": [
       "0.9515688143366665"
      ]
     },
     "execution_count": 21,
     "metadata": {},
     "output_type": "execute_result"
    }
   ],
   "source": [
    "np.sum(pca.explained_variance_ratio_[:10]) # spot on"
   ]
  },
  {
   "cell_type": "code",
   "execution_count": 62,
   "id": "fca2256f",
   "metadata": {},
   "outputs": [
    {
     "name": "stdout",
     "output_type": "stream",
     "text": [
      "1 Principal Component will explain: 44.27% variance\n",
      "2 Principal Component will explain: 18.97% variance\n",
      "3 Principal Component will explain: 9.39% variance\n",
      "4 Principal Component will explain: 6.6% variance\n",
      "5 Principal Component will explain: 5.5% variance\n",
      "6 Principal Component will explain: 4.02% variance\n",
      "7 Principal Component will explain: 2.25% variance\n",
      "8 Principal Component will explain: 1.59% variance\n",
      "9 Principal Component will explain: 1.39% variance\n",
      "10 Principal Component will explain: 1.17% variance\n",
      "11 Principal Component will explain: 0.98% variance\n",
      "12 Principal Component will explain: 0.87% variance\n",
      "13 Principal Component will explain: 0.8% variance\n",
      "14 Principal Component will explain: 0.52% variance\n",
      "15 Principal Component will explain: 0.31% variance\n",
      "16 Principal Component will explain: 0.27% variance\n",
      "17 Principal Component will explain: 0.2% variance\n",
      "18 Principal Component will explain: 0.18% variance\n",
      "19 Principal Component will explain: 0.16% variance\n",
      "20 Principal Component will explain: 0.1% variance\n",
      "21 Principal Component will explain: 0.1% variance\n",
      "22 Principal Component will explain: 0.09% variance\n",
      "23 Principal Component will explain: 0.08% variance\n",
      "24 Principal Component will explain: 0.06% variance\n",
      "25 Principal Component will explain: 0.05% variance\n",
      "26 Principal Component will explain: 0.03% variance\n",
      "27 Principal Component will explain: 0.02% variance\n",
      "28 Principal Component will explain: 0.01% variance\n",
      "29 Principal Component will explain: 0.0% variance\n",
      "30 Principal Component will explain: 0.0% variance\n"
     ]
    }
   ],
   "source": [
    "for i in range(0,30):\n",
    "    print(f'{i+1} Principal Component will explain: {round((np.sum(pca.explained_variance_ratio_[i])*100),2)}% variance')"
   ]
  },
  {
   "cell_type": "code",
   "execution_count": 55,
   "id": "998c8fd1",
   "metadata": {},
   "outputs": [
    {
     "data": {
      "text/plain": [
       "44.2720256075263"
      ]
     },
     "execution_count": 55,
     "metadata": {},
     "output_type": "execute_result"
    }
   ],
   "source": [
    "np.sum(pca.explained_variance_ratio_[0])*100"
   ]
  },
  {
   "cell_type": "code",
   "execution_count": 33,
   "id": "f0fb2742",
   "metadata": {},
   "outputs": [],
   "source": [
    "transformed_X = pca.transform(X)"
   ]
  },
  {
   "cell_type": "code",
   "execution_count": null,
   "id": "cfe9374d",
   "metadata": {},
   "outputs": [],
   "source": [
    "#let's feed this data to a RandomForest"
   ]
  },
  {
   "cell_type": "code",
   "execution_count": 39,
   "id": "5f2fee95",
   "metadata": {},
   "outputs": [],
   "source": [
    "final_X = transformed_X[:,:10] "
   ]
  },
  {
   "cell_type": "code",
   "execution_count": 40,
   "id": "b978deeb",
   "metadata": {},
   "outputs": [],
   "source": [
    "from sklearn.ensemble import RandomForestClassifier"
   ]
  },
  {
   "cell_type": "code",
   "execution_count": 41,
   "id": "1cd745c6",
   "metadata": {},
   "outputs": [],
   "source": [
    "from sklearn.model_selection import train_test_split"
   ]
  },
  {
   "cell_type": "code",
   "execution_count": 42,
   "id": "38b5d840",
   "metadata": {},
   "outputs": [
    {
     "data": {
      "text/plain": [
       "(569, 10)"
      ]
     },
     "execution_count": 42,
     "metadata": {},
     "output_type": "execute_result"
    }
   ],
   "source": [
    "final_X.shape"
   ]
  },
  {
   "cell_type": "code",
   "execution_count": 46,
   "id": "0f549598",
   "metadata": {},
   "outputs": [],
   "source": [
    "y = data.target\n",
    "X_train,X_test,y_train,y_test = train_test_split(final_X,y,test_size=0.2,random_state=123)"
   ]
  },
  {
   "cell_type": "code",
   "execution_count": 47,
   "id": "cf5f6fe8",
   "metadata": {},
   "outputs": [],
   "source": [
    "classifier = RandomForestClassifier()"
   ]
  },
  {
   "cell_type": "code",
   "execution_count": 48,
   "id": "9756167d",
   "metadata": {},
   "outputs": [
    {
     "data": {
      "text/plain": [
       "RandomForestClassifier()"
      ]
     },
     "execution_count": 48,
     "metadata": {},
     "output_type": "execute_result"
    }
   ],
   "source": [
    "classifier.fit(X_train,y_train)"
   ]
  },
  {
   "cell_type": "code",
   "execution_count": 49,
   "id": "94f927c3",
   "metadata": {},
   "outputs": [],
   "source": [
    "pred = classifier.predict(X_test)"
   ]
  },
  {
   "cell_type": "code",
   "execution_count": 50,
   "id": "9bb86c2c",
   "metadata": {},
   "outputs": [],
   "source": [
    "from sklearn.metrics import accuracy_score"
   ]
  },
  {
   "cell_type": "code",
   "execution_count": 51,
   "id": "d0aa1b4e",
   "metadata": {},
   "outputs": [
    {
     "data": {
      "text/plain": [
       "0.9649122807017544"
      ]
     },
     "execution_count": 51,
     "metadata": {},
     "output_type": "execute_result"
    }
   ],
   "source": [
    "accuracy_score(y_test,pred) # we've got 96.5% accuracy by using only 10 variables out of 30"
   ]
  },
  {
   "cell_type": "code",
   "execution_count": null,
   "id": "2a6e612b",
   "metadata": {},
   "outputs": [],
   "source": []
  },
  {
   "cell_type": "code",
   "execution_count": null,
   "id": "b3e4a118",
   "metadata": {},
   "outputs": [],
   "source": []
  },
  {
   "cell_type": "code",
   "execution_count": null,
   "id": "b2179bf9",
   "metadata": {},
   "outputs": [],
   "source": []
  },
  {
   "cell_type": "code",
   "execution_count": null,
   "id": "565e59c1",
   "metadata": {},
   "outputs": [],
   "source": []
  }
 ],
 "metadata": {
  "kernelspec": {
   "display_name": "Python 3 (ipykernel)",
   "language": "python",
   "name": "python3"
  },
  "language_info": {
   "codemirror_mode": {
    "name": "ipython",
    "version": 3
   },
   "file_extension": ".py",
   "mimetype": "text/x-python",
   "name": "python",
   "nbconvert_exporter": "python",
   "pygments_lexer": "ipython3",
   "version": "3.9.12"
  }
 },
 "nbformat": 4,
 "nbformat_minor": 5
}
